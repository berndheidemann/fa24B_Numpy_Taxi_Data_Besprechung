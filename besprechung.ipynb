{
 "cells": [
  {
   "cell_type": "code",
   "metadata": {
    "ExecuteTime": {
     "end_time": "2025-02-11T09:13:01.249985Z",
     "start_time": "2025-02-11T09:13:00.637773Z"
    }
   },
   "source": [
    "import numpy as np\n",
    "np.set_printoptions(suppress=True, precision=4)\n",
    "\n",
    "array = np.genfromtxt(\"taxi_tripdata.csv\", delimiter=\",\", skip_header=1)\n",
    "array.shape"
   ],
   "outputs": [
    {
     "data": {
      "text/plain": [
       "(83691, 20)"
      ]
     },
     "execution_count": 1,
     "metadata": {},
     "output_type": "execute_result"
    }
   ],
   "execution_count": 1
  },
  {
   "cell_type": "code",
   "metadata": {
    "ExecuteTime": {
     "end_time": "2025-02-11T09:13:01.341400Z",
     "start_time": "2025-02-11T09:13:01.338653Z"
    }
   },
   "source": [
    "TRIP_DISTANCE_COL_IDX=8\n",
    "\n",
    "#Extrahiere die Spalte trip_distance und zeige die ersten 30 Einträge an.\n",
    "array[:30,TRIP_DISTANCE_COL_IDX].shape"
   ],
   "outputs": [
    {
     "data": {
      "text/plain": [
       "(30,)"
      ]
     },
     "execution_count": 2,
     "metadata": {},
     "output_type": "execute_result"
    }
   ],
   "execution_count": 2
  },
  {
   "cell_type": "code",
   "metadata": {
    "ExecuteTime": {
     "end_time": "2025-02-11T09:13:01.418679Z",
     "start_time": "2025-02-11T09:13:01.416110Z"
    }
   },
   "source": [
    "#Extrahiere die Spalten fare_amount und tip_amount und zeige die ersten 30 Einträge an\n",
    "FARE_AMOUNT_COL_IDX=9\n",
    "TIP_AMOUNT_COL_IDX=12\n",
    "\n",
    "array[:30,[FARE_AMOUNT_COL_IDX, TIP_AMOUNT_COL_IDX]].shape"
   ],
   "outputs": [
    {
     "data": {
      "text/plain": [
       "(30, 2)"
      ]
     },
     "execution_count": 3,
     "metadata": {},
     "output_type": "execute_result"
    }
   ],
   "execution_count": 3
  },
  {
   "cell_type": "code",
   "metadata": {
    "ExecuteTime": {
     "end_time": "2025-02-11T09:13:01.493750Z",
     "start_time": "2025-02-11T09:13:01.491303Z"
    }
   },
   "source": [
    "#Wähle gezielt einen Bereich aus: Zeilen 1011 bis 1097 und Spalten 6 bis 9.\n",
    "array[1011:1098, 6:10].shape"
   ],
   "outputs": [
    {
     "data": {
      "text/plain": [
       "(87, 4)"
      ]
     },
     "execution_count": 4,
     "metadata": {},
     "output_type": "execute_result"
    }
   ],
   "execution_count": 4
  },
  {
   "cell_type": "code",
   "metadata": {
    "ExecuteTime": {
     "end_time": "2025-02-11T09:13:01.537232Z",
     "start_time": "2025-02-11T09:13:01.534608Z"
    }
   },
   "source": [
    "#Extrahiere jede zweite Zeile der Daten.\n",
    "array[::2].shape"
   ],
   "outputs": [
    {
     "data": {
      "text/plain": [
       "(41846, 20)"
      ]
     },
     "execution_count": 5,
     "metadata": {},
     "output_type": "execute_result"
    }
   ],
   "execution_count": 5
  },
  {
   "cell_type": "code",
   "metadata": {
    "ExecuteTime": {
     "end_time": "2025-02-11T09:13:01.547707Z",
     "start_time": "2025-02-11T09:13:01.545401Z"
    }
   },
   "source": [
    "#Extrahiere die letzte Spalte des Arrays.\n",
    "array[:,::2].shape"
   ],
   "outputs": [
    {
     "data": {
      "text/plain": [
       "(83691, 10)"
      ]
     },
     "execution_count": 6,
     "metadata": {},
     "output_type": "execute_result"
    }
   ],
   "execution_count": 6
  },
  {
   "cell_type": "code",
   "metadata": {
    "ExecuteTime": {
     "end_time": "2025-02-11T09:13:01.562493Z",
     "start_time": "2025-02-11T09:13:01.559199Z"
    }
   },
   "source": [
    "#Berechne den Durchschnitt der Spalte Trip_distance.\n",
    "np.mean(array[:,TRIP_DISTANCE_COL_IDX])"
   ],
   "outputs": [
    {
     "data": {
      "text/plain": [
       "194.35469931055908"
      ]
     },
     "execution_count": 7,
     "metadata": {},
     "output_type": "execute_result"
    }
   ],
   "execution_count": 7
  },
  {
   "cell_type": "code",
   "metadata": {
    "ExecuteTime": {
     "end_time": "2025-02-11T09:13:01.580596Z",
     "start_time": "2025-02-11T09:13:01.576396Z"
    }
   },
   "source": [
    "#Ermittle den Median und die Standardabweichung der Spalte Fare_amount.\n",
    "print(f\"mean: {np.mean(array[:, FARE_AMOUNT_COL_IDX])}\")\n",
    "print(f\"median: {np.median(array[:, FARE_AMOUNT_COL_IDX])}\")\n",
    "print(f\"std: {np.std(array[:, FARE_AMOUNT_COL_IDX])}\")"
   ],
   "outputs": [
    {
     "name": "stdout",
     "output_type": "stream",
     "text": [
      "mean: 20.388304596671087\n",
      "median: 16.0\n",
      "std: 15.583459255873132\n"
     ]
    }
   ],
   "execution_count": 8
  },
  {
   "cell_type": "code",
   "metadata": {
    "ExecuteTime": {
     "end_time": "2025-02-11T09:13:01.596333Z",
     "start_time": "2025-02-11T09:13:01.593639Z"
    }
   },
   "source": [
    "#Summiere die Werte der Spalte Total_amount.\n",
    "\n",
    "TOTAL_AMOUNT_COL_IDX=16\n",
    "array[:,TOTAL_AMOUNT_COL_IDX].sum()"
   ],
   "outputs": [
    {
     "data": {
      "text/plain": [
       "2025726.9600000002"
      ]
     },
     "execution_count": 9,
     "metadata": {},
     "output_type": "execute_result"
    }
   ],
   "execution_count": 9
  },
  {
   "cell_type": "code",
   "metadata": {
    "ExecuteTime": {
     "end_time": "2025-02-11T09:13:01.609913Z",
     "start_time": "2025-02-11T09:13:01.606860Z"
    }
   },
   "source": [
    "#Die Summe aller Spalten\n",
    "array.sum(axis=0)"
   ],
   "outputs": [
    {
     "data": {
      "text/plain": [
       "array([        nan,         nan,         nan,         nan,         nan,\n",
       "        9068972.  , 11153500.  ,         nan, 16265739.14,  1706317.6 ,\n",
       "          96805.95,    24568.5 ,    88596.81,    52267.45,         nan,\n",
       "          24918.6 ,  2025726.96,         nan,         nan,         nan])"
      ]
     },
     "execution_count": 10,
     "metadata": {},
     "output_type": "execute_result"
    }
   ],
   "execution_count": 10
  },
  {
   "cell_type": "code",
   "metadata": {
    "ExecuteTime": {
     "end_time": "2025-02-11T09:13:01.628992Z",
     "start_time": "2025-02-11T09:13:01.625380Z"
    }
   },
   "source": [
    "# wir filtern alle datensätze mit trip distance > 5 heraus\n",
    "array[array[:,TRIP_DISTANCE_COL_IDX]>5].shape"
   ],
   "outputs": [
    {
     "data": {
      "text/plain": [
       "(25756, 20)"
      ]
     },
     "execution_count": 11,
     "metadata": {},
     "output_type": "execute_result"
    }
   ],
   "execution_count": 11
  },
  {
   "cell_type": "code",
   "metadata": {
    "ExecuteTime": {
     "end_time": "2025-02-11T09:14:08.845547Z",
     "start_time": "2025-02-11T09:14:08.837964Z"
    }
   },
   "source": [
    "# Wähle alle Zeilen aus, bei denen `passenger_count` genau **1** ist.  \n",
    "PASSENGER_COUNT_COL_IDX=7\n",
    "array[array[:,PASSENGER_COUNT_COL_IDX]==1].shape\n"
   ],
   "outputs": [
    {
     "data": {
      "text/plain": [
       "(44127, 20)"
      ]
     },
     "execution_count": 14,
     "metadata": {},
     "output_type": "execute_result"
    }
   ],
   "execution_count": 14
  },
  {
   "cell_type": "code",
   "metadata": {
    "ExecuteTime": {
     "end_time": "2025-02-11T09:17:14.004243Z",
     "start_time": "2025-02-11T09:17:13.993834Z"
    }
   },
   "source": [
    "#Ermittle Fahrten, bei denen `Fare_amount` zwischen **10 und 20 Dollar** liegt.\n",
    "fare_amount_above_ten=array[:,FARE_AMOUNT_COL_IDX]>=10\n",
    "array[fare_amount_above_ten & (array[:,FARE_AMOUNT_COL_IDX]<20)].shape\n"
   ],
   "outputs": [
    {
     "data": {
      "text/plain": [
       "(26945, 20)"
      ]
     },
     "execution_count": 17,
     "metadata": {},
     "output_type": "execute_result"
    }
   ],
   "execution_count": 17
  },
  {
   "cell_type": "code",
   "metadata": {
    "ExecuteTime": {
     "end_time": "2025-02-11T09:18:16.819423Z",
     "start_time": "2025-02-11T09:18:16.802743Z"
    }
   },
   "source": [
    "#Kombiniere Bedingungen: Fahrten mit mehr als **2 Passagieren** und einer Strecke unter **2 Meilen**.\n",
    "array[(array[:,PASSENGER_COUNT_COL_IDX]>2) & (array[:,TRIP_DISTANCE_COL_IDX]<2)].shape\n"
   ],
   "outputs": [
    {
     "data": {
      "text/plain": [
       "(1605, 20)"
      ]
     },
     "execution_count": 18,
     "metadata": {},
     "output_type": "execute_result"
    }
   ],
   "execution_count": 18
  },
  {
   "cell_type": "code",
   "metadata": {
    "ExecuteTime": {
     "end_time": "2025-02-11T09:18:51.858372Z",
     "start_time": "2025-02-11T09:18:51.847686Z"
    }
   },
   "source": [
    "# Zähle Fahrten mit genau **0 Passagieren**.\n",
    "array[array[:,PASSENGER_COUNT_COL_IDX]==0].shape"
   ],
   "outputs": [
    {
     "data": {
      "text/plain": [
       "(56, 20)"
      ]
     },
     "execution_count": 19,
     "metadata": {},
     "output_type": "execute_result"
    }
   ],
   "execution_count": 19
  },
  {
   "cell_type": "code",
   "metadata": {
    "ExecuteTime": {
     "end_time": "2025-02-11T09:25:21.868080Z",
     "start_time": "2025-02-11T09:25:21.827019Z"
    }
   },
   "source": [
    "# Berechne den **Fahrpreis pro Meile** für jede Fahrt.\n",
    "# fare_amount/trip_distance\n",
    "\n",
    "valid_mask = array[:, TRIP_DISTANCE_COL_IDX]>0\n",
    "result=array[valid_mask, FARE_AMOUNT_COL_IDX]/array[valid_mask, TRIP_DISTANCE_COL_IDX]\n",
    "result.shape"
   ],
   "outputs": [
    {
     "ename": "ValueError",
     "evalue": "operands could not be broadcast together with shapes (83691,) (80236,) ",
     "output_type": "error",
     "traceback": [
      "\u001B[0;31m---------------------------------------------------------------------------\u001B[0m",
      "\u001B[0;31mValueError\u001B[0m                                Traceback (most recent call last)",
      "Cell \u001B[0;32mIn[24], line 5\u001B[0m\n\u001B[1;32m      1\u001B[0m \u001B[38;5;66;03m# Berechne den **Fahrpreis pro Meile** für jede Fahrt.\u001B[39;00m\n\u001B[1;32m      2\u001B[0m \u001B[38;5;66;03m# fare_amount/trip_distance\u001B[39;00m\n\u001B[1;32m      4\u001B[0m valid_mask \u001B[38;5;241m=\u001B[39m array[:, TRIP_DISTANCE_COL_IDX]\u001B[38;5;241m>\u001B[39m\u001B[38;5;241m0\u001B[39m\n\u001B[0;32m----> 5\u001B[0m result\u001B[38;5;241m=\u001B[39m\u001B[43marray\u001B[49m\u001B[43m[\u001B[49m\u001B[43m:\u001B[49m\u001B[43m,\u001B[49m\u001B[43m \u001B[49m\u001B[43mFARE_AMOUNT_COL_IDX\u001B[49m\u001B[43m]\u001B[49m\u001B[38;5;241;43m/\u001B[39;49m\u001B[43marray\u001B[49m\u001B[43m[\u001B[49m\u001B[43mvalid_mask\u001B[49m\u001B[43m,\u001B[49m\u001B[43m \u001B[49m\u001B[43mTRIP_DISTANCE_COL_IDX\u001B[49m\u001B[43m]\u001B[49m\n\u001B[1;32m      6\u001B[0m result\u001B[38;5;241m.\u001B[39mshape\n",
      "\u001B[0;31mValueError\u001B[0m: operands could not be broadcast together with shapes (83691,) (80236,) "
     ]
    }
   ],
   "execution_count": 24
  },
  {
   "cell_type": "code",
   "metadata": {
    "ExecuteTime": {
     "end_time": "2025-02-11T09:27:52.799638Z",
     "start_time": "2025-02-11T09:27:52.779637Z"
    }
   },
   "source": [
    "# In den Daten hat sich ein Fehler eingeschlichen: Erhöhe alle `Fare_amount` um **10%**.\n",
    "fare_amount=array[:, FARE_AMOUNT_COL_IDX]\n",
    "print(fare_amount[:10])\n",
    "fare_amount=fare_amount*1.1\n",
    "print(\"preiserhöhung\")\n",
    "print(fare_amount[:10])"
   ],
   "outputs": [
    {
     "name": "stdout",
     "output_type": "stream",
     "text": [
      "[ 6.  42.   6.5  6.5  7.   8.  17.5  5.   7.   7.5]\n",
      "preiserhöhung\n",
      "[ 6.6  46.2   7.15  7.15  7.7   8.8  19.25  5.5   7.7   8.25]\n"
     ]
    }
   ],
   "execution_count": 25
  },
  {
   "cell_type": "code",
   "metadata": {
    "ExecuteTime": {
     "end_time": "2025-02-11T09:30:33.673767Z",
     "start_time": "2025-02-11T09:30:33.261635Z"
    }
   },
   "source": [
    "# Speichere ein gefiltertes Subset der Daten als **CSV-Datei**.\n",
    "\n",
    "np.savetxt(\"test2.csv\", array[array[:, TRIP_DISTANCE_COL_IDX]>0], delimiter=',')"
   ],
   "outputs": [],
   "execution_count": 28
  },
  {
   "cell_type": "code",
   "execution_count": 20,
   "metadata": {},
   "outputs": [
    {
     "data": {
      "text/plain": [
       "(83691, 20)"
      ]
     },
     "execution_count": 20,
     "metadata": {},
     "output_type": "execute_result"
    }
   ],
   "source": ""
  },
  {
   "cell_type": "code",
   "execution_count": 21,
   "metadata": {},
   "outputs": [
    {
     "data": {
      "text/plain": [
       "20.388304596671087"
      ]
     },
     "execution_count": 21,
     "metadata": {},
     "output_type": "execute_result"
    }
   ],
   "source": ""
  },
  {
   "cell_type": "code",
   "execution_count": 22,
   "metadata": {},
   "outputs": [
    {
     "data": {
      "text/plain": [
       "array([[ 1.  , 56.  ,  0.5 ],\n",
       "       [ 1.  , 31.  ,  0.5 ],\n",
       "       [ 1.  , 19.5 ,  0.5 ],\n",
       "       ...,\n",
       "       [  nan, 20.93,  0.  ],\n",
       "       [  nan, 19.16,  0.  ],\n",
       "       [  nan, 22.45,  0.  ]])"
      ]
     },
     "execution_count": 22,
     "metadata": {},
     "output_type": "execute_result"
    }
   ],
   "source": ""
  },
  {
   "cell_type": "code",
   "execution_count": null,
   "metadata": {},
   "outputs": [],
   "source": []
  }
 ],
 "metadata": {
  "kernelspec": {
   "display_name": "torch_ds",
   "language": "python",
   "name": "python3"
  },
  "language_info": {
   "codemirror_mode": {
    "name": "ipython",
    "version": 3
   },
   "file_extension": ".py",
   "mimetype": "text/x-python",
   "name": "python",
   "nbconvert_exporter": "python",
   "pygments_lexer": "ipython3",
   "version": "3.10.8"
  }
 },
 "nbformat": 4,
 "nbformat_minor": 2
}
